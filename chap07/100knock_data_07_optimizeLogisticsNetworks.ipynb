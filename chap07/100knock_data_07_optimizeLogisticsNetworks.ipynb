{
  "nbformat": 4,
  "nbformat_minor": 0,
  "metadata": {
    "colab": {
      "provenance": []
    },
    "kernelspec": {
      "name": "python3",
      "display_name": "Python 3"
    },
    "language_info": {
      "name": "python"
    }
  },
  "cells": [
    {
      "cell_type": "markdown",
      "source": [
        "# Python 実践データ分析 100本ノック 第2版\n",
        "\n",
        "(Python Practical Data Analysis 100 Knocks, 2nd ed.)\n",
        "\n",
        "### 第3部 実践編②：最適化問題\n",
        "\n",
        "(Part 3: Practice 2: Optimization Problem)\n",
        "\n",
        "### 第7章 ロジスティクスネットワークの最適設計を行う10本ノック\n",
        "\n",
        " (Chapter 07: 10 knocks to optimize the design of logistics networks)"
      ],
      "metadata": {
        "id": "6OUSFP3Edln-"
      }
    },
    {
      "cell_type": "code",
      "execution_count": 1,
      "metadata": {
        "colab": {
          "base_uri": "https://localhost:8080/"
        },
        "id": "-jDrzsaTdagH",
        "outputId": "ad3e0684-d924-4bee-88a3-c6dbdd50fa64"
      },
      "outputs": [
        {
          "output_type": "stream",
          "name": "stdout",
          "text": [
            "Mounted at /content/drive\n"
          ]
        }
      ],
      "source": [
        "# Connect with Google Drive\n",
        "from google.colab import drive\n",
        "drive.mount('/content/drive')"
      ]
    },
    {
      "cell_type": "code",
      "source": [
        "# Move to working folder\n",
        "import os\n",
        "os.chdir('/content/drive/MyDrive/Colab-Notebooks/python-100knock-data-analytics/chap07/')"
      ],
      "metadata": {
        "id": "_GVgJtFXd-hz"
      },
      "execution_count": 2,
      "outputs": []
    },
    {
      "cell_type": "markdown",
      "source": [
        "### knock 61 : Let's solve a transportation optimization problem."
      ],
      "metadata": {
        "id": "_TImxDdDo8_y"
      }
    },
    {
      "cell_type": "code",
      "source": [
        "!pip install pulp\n",
        "!pip install ortoolpy"
      ],
      "metadata": {
        "colab": {
          "base_uri": "https://localhost:8080/"
        },
        "id": "ztoFvfUepHRE",
        "outputId": "9a9908ce-7cca-4466-e82b-a5a1b4e90f69"
      },
      "execution_count": 3,
      "outputs": [
        {
          "output_type": "stream",
          "name": "stdout",
          "text": [
            "Collecting pulp\n",
            "  Downloading pulp-3.1.1-py3-none-any.whl.metadata (1.3 kB)\n",
            "Downloading pulp-3.1.1-py3-none-any.whl (16.4 MB)\n",
            "\u001b[2K   \u001b[90m━━━━━━━━━━━━━━━━━━━━━━━━━━━━━━━━━━━━━━━━\u001b[0m \u001b[32m16.4/16.4 MB\u001b[0m \u001b[31m90.3 MB/s\u001b[0m eta \u001b[36m0:00:00\u001b[0m\n",
            "\u001b[?25hInstalling collected packages: pulp\n",
            "Successfully installed pulp-3.1.1\n",
            "Collecting ortoolpy\n",
            "  Downloading ortoolpy-0.6.4-py3-none-any.whl.metadata (1.6 kB)\n",
            "Requirement already satisfied: more-itertools<11.0,>=10.1 in /usr/local/lib/python3.11/dist-packages (from ortoolpy) (10.7.0)\n",
            "Requirement already satisfied: pandas>=1.5.3 in /usr/local/lib/python3.11/dist-packages (from ortoolpy) (2.2.2)\n",
            "Collecting pulp<3.0,>=2.7 (from ortoolpy)\n",
            "  Downloading PuLP-2.9.0-py3-none-any.whl.metadata (5.4 kB)\n",
            "Requirement already satisfied: numpy>=1.23.2 in /usr/local/lib/python3.11/dist-packages (from pandas>=1.5.3->ortoolpy) (2.0.2)\n",
            "Requirement already satisfied: python-dateutil>=2.8.2 in /usr/local/lib/python3.11/dist-packages (from pandas>=1.5.3->ortoolpy) (2.9.0.post0)\n",
            "Requirement already satisfied: pytz>=2020.1 in /usr/local/lib/python3.11/dist-packages (from pandas>=1.5.3->ortoolpy) (2025.2)\n",
            "Requirement already satisfied: tzdata>=2022.7 in /usr/local/lib/python3.11/dist-packages (from pandas>=1.5.3->ortoolpy) (2025.2)\n",
            "Requirement already satisfied: six>=1.5 in /usr/local/lib/python3.11/dist-packages (from python-dateutil>=2.8.2->pandas>=1.5.3->ortoolpy) (1.17.0)\n",
            "Downloading ortoolpy-0.6.4-py3-none-any.whl (28 kB)\n",
            "Downloading PuLP-2.9.0-py3-none-any.whl (17.7 MB)\n",
            "\u001b[2K   \u001b[90m━━━━━━━━━━━━━━━━━━━━━━━━━━━━━━━━━━━━━━━━\u001b[0m \u001b[32m17.7/17.7 MB\u001b[0m \u001b[31m68.6 MB/s\u001b[0m eta \u001b[36m0:00:00\u001b[0m\n",
            "\u001b[?25hInstalling collected packages: pulp, ortoolpy\n",
            "  Attempting uninstall: pulp\n",
            "    Found existing installation: PuLP 3.1.1\n",
            "    Uninstalling PuLP-3.1.1:\n",
            "      Successfully uninstalled PuLP-3.1.1\n",
            "Successfully installed ortoolpy-0.6.4 pulp-2.9.0\n"
          ]
        }
      ]
    },
    {
      "cell_type": "code",
      "source": [
        "import numpy as np\n",
        "import pandas as pd\n",
        "from itertools import product\n",
        "from pulp import LpVariable, lpSum, value\n",
        "from ortoolpy import model_min, addvars, addvals"
      ],
      "metadata": {
        "id": "CKhFiwvFpPw9"
      },
      "execution_count": 4,
      "outputs": []
    },
    {
      "cell_type": "code",
      "source": [
        "df_tc = pd.read_csv('trans_cost.csv', index_col=\"工場\")\n",
        "df_demand = pd.read_csv('demand.csv')\n",
        "df_supply = pd.read_csv('supply.csv')\n",
        "\n",
        "# initialization\n",
        "np.random.seed(1)\n",
        "nw = len(df_tc.index)\n",
        "nf = len(df_tc.columns)\n",
        "pr = list(product(range(nw), range(nf)))\n",
        "\n",
        "# Mathematical Modeling\n",
        "m1 = model_min()\n",
        "v1 = {(i,j):LpVariable('v%d_%d'%(i,j),lowBound=0) for i,j in pr}\n",
        "\n",
        "m1 += lpSum(df_tc.iloc[i][j]*v1[i,j] for i,j in pr)\n",
        "for i in range(nw):\n",
        "    m1 += lpSum(v1[i,j] for j in range(nf)) <= df_supply.iloc[0][i]\n",
        "for j in range(nf):\n",
        "    m1 += lpSum(v1[i,j] for i in range(nw)) >= df_demand.iloc[0][j]\n",
        "m1.solve()\n",
        "\n",
        "# Total Transportation Cost Calculation\n",
        "df_tr_sol = df_tc.copy()\n",
        "total_cost = 0\n",
        "for k,x in v1.items():\n",
        "    i,j = k[0],k[1]\n",
        "    df_tr_sol.iloc[i][j] = value(x)\n",
        "    total_cost += df_tc.iloc[i][j]*value(x)\n",
        "\n",
        "print(df_tr_sol)\n",
        "print(\"Total Transportation Cost: \"+str(total_cost))"
      ],
      "metadata": {
        "colab": {
          "base_uri": "https://localhost:8080/"
        },
        "id": "gfc1DVYJpRBG",
        "outputId": "daec235f-9d37-4bb3-b81e-59dba8fa51d5"
      },
      "execution_count": 5,
      "outputs": [
        {
          "output_type": "stream",
          "name": "stdout",
          "text": [
            "    F1  F2  F3  F4\n",
            "工場                \n",
            "W1  28   7   0   0\n",
            "W2   0   0  31   5\n",
            "W3   0  22   0  20\n",
            "Total Transportation Cost: 1296.0\n"
          ]
        },
        {
          "output_type": "stream",
          "name": "stderr",
          "text": [
            "<ipython-input-5-deacf66c9460>:15: FutureWarning: Series.__getitem__ treating keys as positions is deprecated. In a future version, integer keys will always be treated as labels (consistent with DataFrame behavior). To access a value by position, use `ser.iloc[pos]`\n",
            "  m1 += lpSum(df_tc.iloc[i][j]*v1[i,j] for i,j in pr)\n",
            "<ipython-input-5-deacf66c9460>:17: FutureWarning: Series.__getitem__ treating keys as positions is deprecated. In a future version, integer keys will always be treated as labels (consistent with DataFrame behavior). To access a value by position, use `ser.iloc[pos]`\n",
            "  m1 += lpSum(v1[i,j] for j in range(nf)) <= df_supply.iloc[0][i]\n",
            "<ipython-input-5-deacf66c9460>:19: FutureWarning: Series.__getitem__ treating keys as positions is deprecated. In a future version, integer keys will always be treated as labels (consistent with DataFrame behavior). To access a value by position, use `ser.iloc[pos]`\n",
            "  m1 += lpSum(v1[i,j] for i in range(nw)) >= df_demand.iloc[0][j]\n",
            "<ipython-input-5-deacf66c9460>:27: FutureWarning: ChainedAssignmentError: behaviour will change in pandas 3.0!\n",
            "You are setting values through chained assignment. Currently this works in certain cases, but when using Copy-on-Write (which will become the default behaviour in pandas 3.0) this will never work to update the original DataFrame or Series, because the intermediate object on which we are setting values will behave as a copy.\n",
            "A typical example is when you are setting values in a column of a DataFrame, like:\n",
            "\n",
            "df[\"col\"][row_indexer] = value\n",
            "\n",
            "Use `df.loc[row_indexer, \"col\"] = values` instead, to perform the assignment in a single step and ensure this keeps updating the original `df`.\n",
            "\n",
            "See the caveats in the documentation: https://pandas.pydata.org/pandas-docs/stable/user_guide/indexing.html#returning-a-view-versus-a-copy\n",
            "\n",
            "  df_tr_sol.iloc[i][j] = value(x)\n",
            "<ipython-input-5-deacf66c9460>:27: FutureWarning: Series.__setitem__ treating keys as positions is deprecated. In a future version, integer keys will always be treated as labels (consistent with DataFrame behavior). To set a value by position, use `ser.iloc[pos] = value`\n",
            "  df_tr_sol.iloc[i][j] = value(x)\n",
            "<ipython-input-5-deacf66c9460>:28: FutureWarning: Series.__getitem__ treating keys as positions is deprecated. In a future version, integer keys will always be treated as labels (consistent with DataFrame behavior). To access a value by position, use `ser.iloc[pos]`\n",
            "  total_cost += df_tc.iloc[i][j]*value(x)\n"
          ]
        }
      ]
    },
    {
      "cell_type": "markdown",
      "source": [
        "Compared to the current total transportation cost of 14.33 million yen calculated by Knock 58, it shows a significant cost reduction"
      ],
      "metadata": {
        "id": "pT0HE8TarIzA"
      }
    },
    {
      "cell_type": "markdown",
      "source": [
        "### knock 62 : Check the network for the best transportation routes!"
      ],
      "metadata": {
        "id": "alACDk7lrX67"
      }
    },
    {
      "cell_type": "code",
      "source": [
        "import matplotlib.pyplot as plt\n",
        "import networkx as nx"
      ],
      "metadata": {
        "id": "CskPXngErm9-"
      },
      "execution_count": 6,
      "outputs": []
    },
    {
      "cell_type": "code",
      "source": [
        "df_tr = df_tr_sol.copy()\n",
        "df_pos = pd.read_csv('trans_route_pos.csv')\n",
        "\n",
        "# Creating Graph Objects\n",
        "G = nx.Graph()\n",
        "\n",
        "# Vertex Settings\n",
        "for i in range(len(df_pos.columns)):\n",
        "    G.add_node(df_pos.columns[i])\n",
        "\n",
        "# Set edges & list edge weights\n",
        "num_pre = 0\n",
        "edge_weights = []\n",
        "size = 0.1\n",
        "for i in range(len(df_pos.columns)):\n",
        "    for j in range(len(df_pos.columns)):\n",
        "        if not (i==j):\n",
        "            # Adding an Edge\n",
        "            G.add_edge(df_pos.columns[i],df_pos.columns[j])\n",
        "            # Adding Edge Weights\n",
        "            if num_pre<len(G.edges):\n",
        "                num_pre = len(G.edges)\n",
        "                weight = 0\n",
        "                if (df_pos.columns[i] in df_tr.columns)and(df_pos.columns[j] in df_tr.index):\n",
        "                    if df_tr[df_pos.columns[i]][df_pos.columns[j]]:\n",
        "                        weight = df_tr[df_pos.columns[i]][df_pos.columns[j]]*size\n",
        "                elif(df_pos.columns[j] in df_tr.columns)and(df_pos.columns[i] in df_tr.index):\n",
        "                    if df_tr[df_pos.columns[j]][df_pos.columns[i]]:\n",
        "                        weight = df_tr[df_pos.columns[j]][df_pos.columns[i]]*size\n",
        "                edge_weights.append(weight)\n",
        "\n",
        "\n",
        "# Coordinate setting\n",
        "pos = {}\n",
        "for i in range(len(df_pos.columns)):\n",
        "    node = df_pos.columns[i]\n",
        "    pos[node] = (df_pos[node][0],df_pos[node][1])\n",
        "\n",
        "nx.draw(G, pos, with_labels=True,font_size=16, node_size = 1000, node_color='k', font_color='w', width=edge_weights)\n",
        "\n",
        "plt.show()"
      ],
      "metadata": {
        "id": "78ZDJ-Irrsbf",
        "colab": {
          "base_uri": "https://localhost:8080/",
          "height": 516
        },
        "outputId": "99a95ba7-ef23-45e1-cec4-a5eb49c6cf0f"
      },
      "execution_count": 7,
      "outputs": [
        {
          "output_type": "display_data",
          "data": {
            "text/plain": [
              "<Figure size 640x480 with 1 Axes>"
            ],
            "image/png": "[encoded data removed]"
          },
          "metadata": {}
        }
      ]
    },
    {
      "cell_type": "markdown",
      "source": [
        "From the visualized network, it can be said that the hypothesis “transport routes should be aggregated to some extent” made in Knock 57 is correct, and the optimization or calculation has been clarified."
      ],
      "metadata": {
        "id": "ksOyHDH8zmem"
      }
    },
    {
      "cell_type": "markdown",
      "source": [
        "### knock 63 : Let's check if the optimal transportation route is within the constraints."
      ],
      "metadata": {
        "id": "CCv30pjozpvG"
      }
    },
    {
      "cell_type": "code",
      "source": [
        "df_demand = pd.read_csv('demand.csv')\n",
        "df_supply = pd.read_csv('supply.csv')\n",
        "\n",
        "# Constraint Calculation Functions\n",
        "# demand side\n",
        "def condition_demand(df_tr,df_demand):\n",
        "    flag = np.zeros(len(df_demand.columns))\n",
        "    for i in range(len(df_demand.columns)):\n",
        "        temp_sum = sum(df_tr[df_demand.columns[i]])\n",
        "        if (temp_sum>=df_demand.iloc[0][i]):\n",
        "            flag[i] = 1\n",
        "    return flag\n",
        "\n",
        "# supply side\n",
        "def condition_supply(df_tr,df_supply):\n",
        "    flag = np.zeros(len(df_supply.columns))\n",
        "    for i in range(len(df_supply.columns)):\n",
        "        temp_sum = sum(df_tr.loc[df_supply.columns[i]])\n",
        "        if temp_sum<=df_supply.iloc[0][i]:\n",
        "            flag[i] = 1\n",
        "    return flag\n",
        "\n",
        "print(\"Demand Condition Calculation Result:\"+str(condition_demand(df_tr_sol,df_demand)))\n",
        "print(\"Supply Condition Calculation Result:\"+str(condition_supply(df_tr_sol,df_supply)))"
      ],
      "metadata": {
        "colab": {
          "base_uri": "https://localhost:8080/"
        },
        "id": "Igr_BeIjz0jq",
        "outputId": "63a1f6c5-c905-4c11-ab10-3167885a9ff9"
      },
      "execution_count": 8,
      "outputs": [
        {
          "output_type": "stream",
          "name": "stdout",
          "text": [
            "Demand Condition Calculation Result:[1. 1. 1. 1.]\n",
            "Supply Condition Calculation Result:[1. 1. 1.]\n"
          ]
        },
        {
          "output_type": "stream",
          "name": "stderr",
          "text": [
            "<ipython-input-8-532cb1165c3a>:10: FutureWarning: Series.__getitem__ treating keys as positions is deprecated. In a future version, integer keys will always be treated as labels (consistent with DataFrame behavior). To access a value by position, use `ser.iloc[pos]`\n",
            "  if (temp_sum>=df_demand.iloc[0][i]):\n",
            "<ipython-input-8-532cb1165c3a>:19: FutureWarning: Series.__getitem__ treating keys as positions is deprecated. In a future version, integer keys will always be treated as labels (consistent with DataFrame behavior). To access a value by position, use `ser.iloc[pos]`\n",
            "  if temp_sum<=df_supply.iloc[0][i]:\n"
          ]
        }
      ]
    },
    {
      "cell_type": "markdown",
      "source": [
        "All constraints on both the demand and supply side indicate 1, indicating that they are satisfied"
      ],
      "metadata": {
        "id": "TBM9-MXt0wLk"
      }
    },
    {
      "cell_type": "markdown",
      "source": [
        "### knock 64 : Let's read the data related to the production plan."
      ],
      "metadata": {
        "id": "AYFA-FIN2fMh"
      }
    },
    {
      "cell_type": "markdown",
      "source": [
        "| No. | File Name | Outline |\n",
        "|-----------|-----------|-----------|\n",
        "|  1  | product_plan_material.csv | Percentage of raw materials required to manufacture the product   |\n",
        "|  2  | product_plan_profit.csv   | Product Profit   |\n",
        "|  3  | product_plan_stock.csv    | Inventory of raw materials   |\n",
        "|  4  | product_plan.csv          | Product output   |"
      ],
      "metadata": {
        "id": "6bBLnEG13osC"
      }
    },
    {
      "cell_type": "code",
      "source": [
        "df_material = pd.read_csv('product_plan_material.csv', index_col=\"製品\")\n",
        "print(df_material)\n",
        "df_profit = pd.read_csv('product_plan_profit.csv', index_col=\"製品\")\n",
        "print(df_profit)\n",
        "df_stock = pd.read_csv('product_plan_stock.csv', index_col=\"項目\")\n",
        "print(df_stock)\n",
        "df_plan = pd.read_csv('product_plan.csv', index_col=\"製品\")\n",
        "print(df_plan)"
      ],
      "metadata": {
        "colab": {
          "base_uri": "https://localhost:8080/"
        },
        "id": "rnjWIJNr85Tf",
        "outputId": "eb00b1af-bbb5-4dba-e2b9-323d15ce0d4f"
      },
      "execution_count": 9,
      "outputs": [
        {
          "output_type": "stream",
          "name": "stdout",
          "text": [
            "     原料1  原料2  原料3\n",
            "製品                \n",
            "製品1    1    4    3\n",
            "製品2    2    4    1\n",
            "      利益\n",
            "製品      \n",
            "製品1  5.0\n",
            "製品2  4.0\n",
            "    原料1  原料2  原料3\n",
            "項目               \n",
            "在庫   40   80   50\n",
            "     生産量\n",
            "製品      \n",
            "製品1   16\n",
            "製品2    0\n"
          ]
        }
      ]
    },
    {
      "cell_type": "markdown",
      "source": [
        "Despite the fact that the raw materials for Product 2 are being manufactured, Product 2 is not being manufactured.\n",
        "\n",
        "Increasing the amount of Product 2 manufactured should increase profits."
      ],
      "metadata": {
        "id": "Qt6v3LpG-utM"
      }
    },
    {
      "cell_type": "markdown",
      "source": [
        "### knock 65 : Let's create a function to calculate profit."
      ],
      "metadata": {
        "id": "xzg7nlZT-zzY"
      }
    },
    {
      "cell_type": "code",
      "source": [
        "# Profit Calculation Functions\n",
        "def product_plan(df_profit,df_plan):\n",
        "    profit = 0\n",
        "    for i in range(len(df_profit.index)):\n",
        "        for j in range(len(df_plan.columns)):\n",
        "            profit += df_profit.iloc[i][j]*df_plan.iloc[i][j]\n",
        "    return profit\n",
        "\n",
        "print(\"Total profit:\"+str(product_plan(df_profit,df_plan))+ \" man yen :\"+ str(product_plan(df_profit,df_plan)*10000) +\" yen :\"+ str((product_plan(df_profit,df_plan)*10000)/1000000) +\" million yen\")"
      ],
      "metadata": {
        "colab": {
          "base_uri": "https://localhost:8080/"
        },
        "id": "sQuLjb4L_cz5",
        "outputId": "1b7cf4c1-b1d8-4256-b221-0629743838f9"
      },
      "execution_count": 22,
      "outputs": [
        {
          "output_type": "stream",
          "name": "stdout",
          "text": [
            "Total profit:80.0 man yen :800000.0 yen :0.8 million yen\n"
          ]
        },
        {
          "output_type": "stream",
          "name": "stderr",
          "text": [
            "<ipython-input-22-995df0edfec3>:6: FutureWarning: Series.__getitem__ treating keys as positions is deprecated. In a future version, integer keys will always be treated as labels (consistent with DataFrame behavior). To access a value by position, use `ser.iloc[pos]`\n",
            "  profit += df_profit.iloc[i][j]*df_plan.iloc[i][j]\n"
          ]
        }
      ]
    },
    {
      "cell_type": "markdown",
      "source": [
        "### knock 66 : Let's solve a production optimization problem."
      ],
      "metadata": {
        "id": "DaDFDs-JCDyi"
      }
    },
    {
      "cell_type": "code",
      "source": [
        "from pulp import LpVariable, lpSum, value\n",
        "from ortoolpy import model_max, addvars, addvals"
      ],
      "metadata": {
        "id": "baKxzxpsB6mH"
      },
      "execution_count": 16,
      "outputs": []
    },
    {
      "cell_type": "code",
      "source": [
        "df = df_material.copy()\n",
        "inv = df_stock\n",
        "\n",
        "m = model_max()\n",
        "v1 = {(i):LpVariable('v%d'%(i),lowBound=0) for i in range(len(df_profit))}\n",
        "m += lpSum(df_profit.iloc[i]*v1[i] for i in range(len(df_profit)))\n",
        "for i in range(len(df_material.columns)):\n",
        "    m += lpSum(df_material.iloc[j,i]*v1[j] for j in range(len(df_profit)) ) <= df_stock.iloc[:,i]\n",
        "m.solve()\n",
        "\n",
        "df_plan_sol = df_plan.copy()\n",
        "for k,x in v1.items():\n",
        "    df_plan_sol.iloc[k] = value(x)\n",
        "print(df_plan_sol)\n",
        "print(\"Total profit: \"+str(value(m.objective))+ \" man yen :\"+ str(value(m.objective)*10000) +\" yen :\"+ str((value(m.objective)*10000)/1000000) +\" million yen\")"
      ],
      "metadata": {
        "colab": {
          "base_uri": "https://localhost:8080/"
        },
        "id": "4czg8vTQCWjP",
        "outputId": "17eea9f0-7f83-4c35-9355-cd81512664d3"
      },
      "execution_count": 21,
      "outputs": [
        {
          "output_type": "stream",
          "name": "stdout",
          "text": [
            "     生産量\n",
            "製品      \n",
            "製品1   15\n",
            "製品2    5\n",
            "Total profit: 95.0 man yen :950000.0 yen :0.95 million yen\n"
          ]
        }
      ]
    },
    {
      "cell_type": "markdown",
      "source": [
        "After solving the optimization problem, it was found that by decreasing the production volume of Product 1 by 1 to 15, the production volume of Product 2 could be increased by 5, resulting in an increase in profit to 950,000 yen."
      ],
      "metadata": {
        "id": "su0yhRojFTyr"
      }
    },
    {
      "cell_type": "markdown",
      "source": [
        "### knock 67 : Let's check if the optimal production plan is within the constraints."
      ],
      "metadata": {
        "id": "ayeGhtkQFQV0"
      }
    },
    {
      "cell_type": "code",
      "source": [
        "# Constraint Calculation Functions\n",
        "def condition_stock(df_plan,df_material,df_stock):\n",
        "    flag = np.zeros(len(df_material.columns))\n",
        "    for i in range(len(df_material.columns)):\n",
        "        temp_sum = 0\n",
        "        for j in range(len(df_material.index)):\n",
        "            temp_sum = temp_sum + df_material.iloc[j][i]*float(df_plan.iloc[j])\n",
        "        if (temp_sum<=float(df_stock.iloc[0][i])):\n",
        "            flag[i] = 1\n",
        "        print(df_material.columns[i]+\"  usage volume:\"+str(temp_sum)+\", inventory:\"+str(float(df_stock.iloc[0][i])))\n",
        "    return flag\n",
        "\n",
        "print(\"Constraint Condition Calculation Result:\"+str(condition_stock(df_plan_sol,df_material,df_stock)))"
      ],
      "metadata": {
        "colab": {
          "base_uri": "https://localhost:8080/"
        },
        "id": "zs23IDanGFf0",
        "outputId": "f0c1796d-2830-4900-f792-54b17f25bf83"
      },
      "execution_count": 39,
      "outputs": [
        {
          "output_type": "stream",
          "name": "stdout",
          "text": [
            "原料1  usage volume:25.0, inventory:40.0\n",
            "原料2  usage volume:80.0, inventory:80.0\n",
            "原料3  usage volume:50.0, inventory:50.0\n",
            "Constraint Condition Calculation Result:[1. 1. 1.]\n"
          ]
        },
        {
          "output_type": "stream",
          "name": "stderr",
          "text": [
            "<ipython-input-39-5738c4c26db8>:7: FutureWarning: Series.__getitem__ treating keys as positions is deprecated. In a future version, integer keys will always be treated as labels (consistent with DataFrame behavior). To access a value by position, use `ser.iloc[pos]`\n",
            "  temp_sum = temp_sum + df_material.iloc[j][i]*float(df_plan.iloc[j])\n",
            "<ipython-input-39-5738c4c26db8>:7: FutureWarning: Calling float on a single element Series is deprecated and will raise a TypeError in the future. Use float(ser.iloc[0]) instead\n",
            "  temp_sum = temp_sum + df_material.iloc[j][i]*float(df_plan.iloc[j])\n",
            "<ipython-input-39-5738c4c26db8>:8: FutureWarning: Series.__getitem__ treating keys as positions is deprecated. In a future version, integer keys will always be treated as labels (consistent with DataFrame behavior). To access a value by position, use `ser.iloc[pos]`\n",
            "  if (temp_sum<=float(df_stock.iloc[0][i])):\n",
            "<ipython-input-39-5738c4c26db8>:10: FutureWarning: Series.__getitem__ treating keys as positions is deprecated. In a future version, integer keys will always be treated as labels (consistent with DataFrame behavior). To access a value by position, use `ser.iloc[pos]`\n",
            "  print(df_material.columns[i]+\"  usage volume:\"+str(temp_sum)+\", inventory:\"+str(float(df_stock.iloc[0][i])))\n"
          ]
        }
      ]
    },
    {
      "cell_type": "markdown",
      "source": [
        "* All constraints are satisfied in the calculation results.\n",
        "* Raw materials 2 and 3 are fully utilized with no surplus.\n",
        "* Raw material 1 has a slight surplus, but utilization is significantly improved compared to before optimization.\n",
        "* Overall, the improvement is considered reasonable based on the analysis."
      ],
      "metadata": {
        "id": "LJ475esKHALy"
      }
    },
    {
      "cell_type": "markdown",
      "source": [
        "### knock 68 : Solve logistics network design problems."
      ],
      "metadata": {
        "id": "H-eV3OkLH19W"
      }
    },
    {
      "cell_type": "code",
      "source": [
        "product = list('AB')\n",
        "demand_site = list('PQ')\n",
        "factory = list('XY')\n",
        "lane = (2,2)\n",
        "\n",
        "# Table of transportation costs\n",
        "tbdi = pd.DataFrame(((j,k) for j in demand_site for k in factory), columns=['需要地','工場'])\n",
        "tbdi['輸送費'] = [1,2,3,1]\n",
        "print(tbdi)\n",
        "\n",
        "# demand chart\n",
        "tbde = pd.DataFrame(((j,i) for j in demand_site for i in product), columns=['需要地','製品'])\n",
        "tbde['需要'] = [10,10,20,20]\n",
        "print(tbde)\n",
        "\n",
        "# production schedule\n",
        "tbfa = pd.DataFrame(((k,l,i,0,np.inf) for k,nl in zip (factory,lane) for l in range(nl) for i in product),\n",
        "                    columns=['工場','レーン','製品','下限','上限'])\n",
        "tbfa['生産費'] = [1,np.nan,np.nan,1,3,np.nan,5,3]\n",
        "tbfa.dropna(inplace=True)\n",
        "tbfa.loc[4,'上限']=10\n",
        "print(tbfa)\n",
        "\n",
        "from ortoolpy import logistics_network\n",
        "_, tbdi2, _ = logistics_network(tbde,tbdi,tbfa)\n",
        "print(tbfa)\n",
        "print(tbdi2)"
      ],
      "metadata": {
        "colab": {
          "base_uri": "https://localhost:8080/"
        },
        "id": "ud-zJ5CdIG9h",
        "outputId": "6f19fc73-412a-4ae4-b939-77eed3e97838"
      },
      "execution_count": 46,
      "outputs": [
        {
          "output_type": "stream",
          "name": "stdout",
          "text": [
            "  需要地 工場  輸送費\n",
            "0   P  X    1\n",
            "1   P  Y    2\n",
            "2   Q  X    3\n",
            "3   Q  Y    1\n",
            "  需要地 製品  需要\n",
            "0   P  A  10\n",
            "1   P  B  10\n",
            "2   Q  A  20\n",
            "3   Q  B  20\n",
            "  工場  レーン 製品  下限    上限  生産費\n",
            "0  X    0  A   0   inf  1.0\n",
            "3  X    1  B   0   inf  1.0\n",
            "4  Y    0  A   0  10.0  3.0\n",
            "6  Y    1  A   0   inf  5.0\n",
            "7  Y    1  B   0   inf  3.0\n",
            "  工場  レーン 製品  下限    上限  生産費     VarY  ValY\n",
            "0  X    0  A   0   inf  1.0  v000048  20.0\n",
            "3  X    1  B   0   inf  1.0  v000049  10.0\n",
            "4  Y    0  A   0  10.0  3.0  v000050  10.0\n",
            "6  Y    1  A   0   inf  5.0  v000051   0.0\n",
            "7  Y    1  B   0   inf  3.0  v000052  20.0\n",
            "  需要地 工場  輸送費 製品     VarX  ValX\n",
            "0   P  X    1  A  v000040  10.0\n",
            "1   P  X    1  B  v000041  10.0\n",
            "2   P  Y    2  A  v000042   0.0\n",
            "3   P  Y    2  B  v000043   0.0\n",
            "4   Q  X    3  A  v000044  10.0\n",
            "5   Q  X    3  B  v000045   0.0\n",
            "6   Q  Y    1  A  v000046  10.0\n",
            "7   Q  Y    1  B  v000047  20.0\n"
          ]
        }
      ]
    },
    {
      "cell_type": "markdown",
      "source": [
        "Items created by function logistics_network\n",
        "\n",
        "ValY : optimum production\n",
        "\n",
        "ValX : optimum transport volume\n",
        "\n",
        "Knocks 69 and 70 check whether these results are valid or not."
      ],
      "metadata": {
        "id": "oiLhVahlJrv3"
      }
    },
    {
      "cell_type": "markdown",
      "source": [
        "### knock 69 : Calculate transportation costs and their breakdown in the optimal network!"
      ],
      "metadata": {
        "id": "echP5fNYLEFz"
      }
    },
    {
      "cell_type": "code",
      "source": [
        "print(tbdi2)\n",
        "trans_cost = 0\n",
        "for i in range(len(tbdi2.index)):\n",
        "    trans_cost += tbdi2[\"輸送費\"].iloc[i]*tbdi2[\"ValX\"].iloc[i]\n",
        "print(\"Total Transportation Cost:\"+str(trans_cost)+ \" man yen :\"+ str((trans_cost)*10000) +\" yen :\"+ str(((trans_cost)*10000)/1000000) +\" million yen\")"
      ],
      "metadata": {
        "colab": {
          "base_uri": "https://localhost:8080/"
        },
        "id": "wsYv_tAEI7ik",
        "outputId": "48f9bdb7-26cb-4256-e19f-767adc3014f0"
      },
      "execution_count": 47,
      "outputs": [
        {
          "output_type": "stream",
          "name": "stdout",
          "text": [
            "  需要地 工場  輸送費 製品     VarX  ValX\n",
            "0   P  X    1  A  v000040  10.0\n",
            "1   P  X    1  B  v000041  10.0\n",
            "2   P  Y    2  A  v000042   0.0\n",
            "3   P  Y    2  B  v000043   0.0\n",
            "4   Q  X    3  A  v000044  10.0\n",
            "5   Q  X    3  B  v000045   0.0\n",
            "6   Q  Y    1  A  v000046  10.0\n",
            "7   Q  Y    1  B  v000047  20.0\n",
            "Total Transportation Cost:80.0 man yen :800000.0 yen :0.8 million yen\n"
          ]
        }
      ]
    },
    {
      "cell_type": "markdown",
      "source": [
        "* Total production cost: 0.8 million yen.\n",
        "* Routes used: Factory X → Store P and Factory Y → Store Q.\n",
        "* These routes transport minimal amounts to meet demand.\n",
        "* Store Q receives an additional 10 units of Product A from Factory X due to unmet demand.\n",
        "* Factory Y has limited production capacity.\n",
        "* Factory X has lower production costs for Product A.\n",
        "* The chosen transportation and production strategy appears efficient and cost-effective."
      ],
      "metadata": {
        "id": "mK3OKNf6TZ8n"
      }
    },
    {
      "cell_type": "markdown",
      "source": [
        "### knock 70 : Let's calculate the production cost and its breakdown in the optimal network"
      ],
      "metadata": {
        "id": "ry-Hna5dNEC1"
      }
    },
    {
      "cell_type": "code",
      "source": [
        "print(tbfa)\n",
        "product_cost = 0\n",
        "for i in range(len(tbfa.index)):\n",
        "    product_cost += tbfa[\"生産費\"].iloc[i]*tbfa[\"ValY\"].iloc[i]\n",
        "print(\"Total production cost:\"+str(product_cost)+ \" man yen :\"+ str((product_cost)*10000) +\" yen :\"+ str(((product_cost)*10000)/1000000) +\" million yen\")"
      ],
      "metadata": {
        "colab": {
          "base_uri": "https://localhost:8080/"
        },
        "id": "fGLVvGyhNaYV",
        "outputId": "1c379f2e-180b-4a14-d76f-8934e54fe798"
      },
      "execution_count": 36,
      "outputs": [
        {
          "output_type": "stream",
          "name": "stdout",
          "text": [
            "  工場  レーン 製品  下限    上限  生産費     VarY  ValY\n",
            "0  X    0  A   0   inf  1.0  v000022  20.0\n",
            "3  X    1  B   0   inf  1.0  v000023  10.0\n",
            "4  Y    0  A   0  10.0  3.0  v000024  10.0\n",
            "6  Y    1  A   0   inf  5.0  v000025   0.0\n",
            "7  Y    1  B   0   inf  3.0  v000026  20.0\n",
            "Total production cost:120.0 man yen :1200000.0 yen :1.2 million yen\n"
          ]
        }
      ]
    },
    {
      "cell_type": "markdown",
      "source": [
        "* Total production cost: 1.2 million yen.\n",
        "* Factory X produces 20 units of Product A and 10 units of Product B due to its lower production costs.\n",
        "* Ideally, all production would occur at Factory X to minimize production costs.\n",
        "* However, due to transportation costs, Factory Y must operate to supply Store Q efficiently.\n",
        "* Factory Y produces 10 units of Product A and 20 units of Product B.\n",
        "* Overall, the production and distribution plan balances production and transportation costs effectively."
      ],
      "metadata": {
        "id": "XKUY6MWyTNQi"
      }
    },
    {
      "cell_type": "markdown",
      "source": [
        "### Use pulp library"
      ],
      "metadata": {
        "id": "MG2mK6lXcd6V"
      }
    },
    {
      "cell_type": "code",
      "source": [
        "from pulp import LpProblem, LpMinimize, LpVariable, lpSum, LpStatus, value\n",
        "\n",
        "# Data setup\n",
        "products = list('AB')\n",
        "demand_sites = list('PQ')\n",
        "factories = list('XY')\n",
        "\n",
        "transport_costs = pd.DataFrame([\n",
        "    ('P', 'X', 1), ('P', 'Y', 2),\n",
        "    ('Q', 'X', 3), ('Q', 'Y', 1)\n",
        "], columns=['Demand Site', 'Factory', 'Transportation Cost'])\n",
        "\n",
        "demand = pd.DataFrame([\n",
        "    ('P', 'A', 10), ('P', 'B', 10),\n",
        "    ('Q', 'A', 20), ('Q', 'B', 20)\n",
        "], columns=['Demand Site', 'Product', 'Demand'])\n",
        "\n",
        "production = pd.DataFrame([\n",
        "    ('X', 0, 'A', 0, float('inf'), 1),\n",
        "    ('X', 1, 'B', 0, float('inf'), 1),\n",
        "    ('Y', 0, 'A', 0, 10, 3),\n",
        "    ('Y', 1, 'A', 0, float('inf'), 5),\n",
        "    ('Y', 1, 'B', 0, float('inf'), 3)\n",
        "], columns=['Factory', 'Lane', 'Product', 'Lower Limit', 'Upper Limit', 'Production Cost'])\n",
        "\n",
        "# Replace infinite upper limits with large finite number\n",
        "production['Upper Limit'] = production['Upper Limit'].replace(float('inf'), 1e10)\n",
        "\n",
        "# Initialize model\n",
        "model = LpProblem(\"LogisticsOptimizationWithLanes\", LpMinimize)\n",
        "\n",
        "# Decision variables: shipment amount from (Factory, Lane) to Demand Site per Product\n",
        "ship_vars = {}\n",
        "for _, d_row in demand.iterrows():\n",
        "    for _, p_row in production.iterrows():\n",
        "        if d_row['Product'] == p_row['Product']:\n",
        "            key = (p_row['Factory'], p_row['Lane'], d_row['Demand Site'], d_row['Product'])\n",
        "            ship_vars[key] = LpVariable(f\"Ship_{key[0]}_{key[1]}_{key[2]}_{key[3]}\", lowBound=0)\n",
        "\n",
        "# Objective: minimize total cost = production cost + transportation cost\n",
        "terms = []\n",
        "for key, var in ship_vars.items():\n",
        "    factory, lane, demand_site, product = key\n",
        "    # Find production cost for this factory-lane-product\n",
        "    prod_cost = production[\n",
        "        (production['Factory'] == factory) &\n",
        "        (production['Lane'] == lane) &\n",
        "        (production['Product'] == product)\n",
        "    ]['Production Cost'].values[0]\n",
        "    # Find transportation cost for factory-demand_site\n",
        "    trans_cost_row = transport_costs[\n",
        "        (transport_costs['Factory'] == factory) &\n",
        "        (transport_costs['Demand Site'] == demand_site)\n",
        "    ]\n",
        "    if trans_cost_row.empty:\n",
        "        continue\n",
        "    trans_cost = trans_cost_row['Transportation Cost'].values[0]\n",
        "    terms.append((prod_cost + trans_cost) * var)\n",
        "model += lpSum(terms)\n",
        "\n",
        "# Demand constraints: total shipments to demand site per product satisfy demand\n",
        "for _, d_row in demand.iterrows():\n",
        "    model += lpSum([\n",
        "        ship_vars[(p_row['Factory'], p_row['Lane'], d_row['Demand Site'], d_row['Product'])]\n",
        "        for _, p_row in production.iterrows()\n",
        "        if p_row['Product'] == d_row['Product']\n",
        "    ]) == d_row['Demand'], f\"Demand_{d_row['Demand Site']}_{d_row['Product']}\"\n",
        "\n",
        "# Production capacity constraints: sum shipments from each factory-lane-product ≤ upper limit\n",
        "for _, p_row in production.iterrows():\n",
        "    model += lpSum([\n",
        "        ship_vars[(p_row['Factory'], p_row['Lane'], d_row['Demand Site'], p_row['Product'])]\n",
        "        for _, d_row in demand.iterrows()\n",
        "        if d_row['Product'] == p_row['Product']\n",
        "    ]) <= p_row['Upper Limit'], f\"Capacity_{p_row['Factory']}_{p_row['Lane']}_{p_row['Product']}\"\n",
        "\n",
        "# Solve model\n",
        "model.solve()\n",
        "\n",
        "# Output results\n",
        "print(\"Status:\", LpStatus[model.status])\n",
        "print(\"\\nShipment plan:\")\n",
        "if LpStatus[model.status] == 'Optimal':\n",
        "    for var in model.variables():\n",
        "        val = value(var)\n",
        "        if val > 0:\n",
        "            print(f\"{var.name} = {val}\")\n",
        "else:\n",
        "    print(\"No optimal solution found.\")\n",
        "\n",
        "print(\"\\nTotal Cost:\", value(model.objective))"
      ],
      "metadata": {
        "colab": {
          "base_uri": "https://localhost:8080/"
        },
        "id": "-evXX2_vZ7zc",
        "outputId": "a46a6b7a-84da-49bc-9a02-28065499ed0b"
      },
      "execution_count": 52,
      "outputs": [
        {
          "output_type": "stream",
          "name": "stdout",
          "text": [
            "Status: Optimal\n",
            "\n",
            "Shipment plan:\n",
            "Ship_X_0_P_A = 10.0\n",
            "Ship_X_0_Q_A = 20.0\n",
            "Ship_X_1_P_B = 10.0\n",
            "Ship_X_1_Q_B = 20.0\n",
            "\n",
            "Total Cost: 200.0\n"
          ]
        }
      ]
    },
    {
      "cell_type": "code",
      "source": [],
      "metadata": {
        "id": "U0WB079fa9x6"
      },
      "execution_count": null,
      "outputs": []
    }
  ]
}